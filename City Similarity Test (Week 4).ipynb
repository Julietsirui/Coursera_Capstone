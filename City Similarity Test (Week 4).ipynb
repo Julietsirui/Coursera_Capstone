{
    "nbformat_minor": 1, 
    "cells": [
        {
            "source": "# City Similarity Test\n## Business Problem\nA New York Luxury Brand has built its business in several cities in the United States, including Los Angeles, New York, and Chicago. Due to its sucess and growing popularity in these cities, the CEO and his team wants to expand their business to other cities in the United States and also explore their market in big cities in other countries, such as China and UK. Now the CEO has hired a data scientist and assigned her a task to find out the similarity between different big cities in the world and group the cities into various clusters, so that the Board of Directors can make a better decision of which business mode to operate in new cities. (For Example: If London has the been grouped into the same cluster with New York, the business mode operated in New York market will be considered for London)  \n\nIn order to carry out the task, the data scientiest should make a full use of FourSquare API and collect a dataset for at least 15 cities, including those in the United States and those in other countries. Visualizations are required to present the clustering results so that the Board of ", 
            "cell_type": "markdown", 
            "metadata": {
                "collapsed": true
            }
        }, 
        {
            "source": "", 
            "cell_type": "code", 
            "execution_count": null, 
            "outputs": [], 
            "metadata": {}
        }
    ], 
    "nbformat": 4, 
    "metadata": {
        "kernelspec": {
            "display_name": "Python 3.6", 
            "name": "python3", 
            "language": "python"
        }, 
        "language_info": {
            "mimetype": "text/x-python", 
            "nbconvert_exporter": "python", 
            "version": "3.6.8", 
            "name": "python", 
            "pygments_lexer": "ipython3", 
            "file_extension": ".py", 
            "codemirror_mode": {
                "version": 3, 
                "name": "ipython"
            }
        }
    }
}